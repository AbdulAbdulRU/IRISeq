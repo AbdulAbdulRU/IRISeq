{
 "cells": [
  {
   "cell_type": "code",
   "execution_count": null,
   "id": "54258cc8-7182-4ca5-b3a7-b33139ece2ff",
   "metadata": {},
   "outputs": [],
   "source": [
    "library(rliger)\n",
    "\n",
    "library(Matrix)\n",
    "library(Seurat)\n",
    "library(spacexr)\n",
    "library(Matrix)\n",
    "library(doParallel)"
   ]
  },
  {
   "cell_type": "code",
   "execution_count": null,
   "id": "b811c02e-b0f7-4d85-b9af-442392df6eff",
   "metadata": {},
   "outputs": [],
   "source": [
    "#Read in gene expression matrix and create seurat object \n",
    "\n",
    "gene_count <- readMM(\"/../genecount.mtx\")\n",
    "df_cell <- read.csv(\"/../df_cell.csv\")\n",
    "df_gene <- read.csv(\"/../df_gene.csv\")\n",
    "colnames(gene_count) = df_cell$Cell_name #your cell name column\n",
    "rownames(gene_count) = df_gene$Gene_name\n",
    "r = CreateSeuratObject(gene_count, meta.data = df_cell, project = \"SpatialData\")\n",
    "r <- subset(r, subset = nCount_RNA >= 400 )\n",
    "\n",
    "\n",
    "\n",
    "\n",
    "\n"
   ]
  },
  {
   "cell_type": "code",
   "execution_count": null,
   "id": "d26ea6b0-34a7-4ccf-b94a-1d8c758026a2",
   "metadata": {},
   "outputs": [],
   "source": []
  },
  {
   "cell_type": "code",
   "execution_count": null,
   "id": "daefc2c7-8a0d-4816-9ecc-95ebf61e160f",
   "metadata": {},
   "outputs": [],
   "source": []
  },
  {
   "cell_type": "code",
   "execution_count": null,
   "id": "b7a63050-47f6-4967-bb2b-15c6829bb6ef",
   "metadata": {},
   "outputs": [],
   "source": [
    "#break down by region\n",
    "cortex <- subset(r, subset = region == \"cortex\")\n",
    "striatum <- subset(r, subset = region == \"striatum\")\n",
    "hippocampus <- subset(r, subset = region == \"hippocampus\")\n"
   ]
  },
  {
   "cell_type": "code",
   "execution_count": null,
   "id": "8f23729c-54ab-4069-9971-f36efc823311",
   "metadata": {},
   "outputs": [],
   "source": [
    "#convert to liger object\n",
    "striatum_liger = seuratToLiger(striatum, combined.seurat = TRUE, raw.assay = \"RNA\", meta.var = \"source_dataset\")\n",
    "cortex_liger = seuratToLiger(cortex, combined.seurat = TRUE, raw.assay = \"RNA\", meta.var = \"source_dataset\")\n",
    "hippocampus_liger = seuratToLiger(hippocampus, combined.seurat = TRUE, raw.assay = \"RNA\", meta.var = \"source_dataset\")\n"
   ]
  },
  {
   "cell_type": "code",
   "execution_count": null,
   "id": "3f269bcb-e084-4301-9a01-5197791dabb9",
   "metadata": {},
   "outputs": [],
   "source": [
    "#select 2000 var genes\n",
    "cortex_liger = selectGenes(cortex_liger, num.genes = 2000 , do.plot = T)\n",
    "striatum_liger = selectGenes(striatum_liger, num.genes = 2000 , do.plot = T)\n",
    "hippocampus_liger = selectGenes(hippocampus_liger, num.genes = 2000 , do.plot = T)\n"
   ]
  },
  {
   "cell_type": "code",
   "execution_count": null,
   "id": "bc29d109-cb46-4962-b642-3dac483c1312",
   "metadata": {},
   "outputs": [],
   "source": [
    "print(paste('A genes:', length(cortex_liger@var.genes)))\n",
    "print(paste('A genes:', length(striatum_liger@var.genes)))\n",
    "print(paste('A genes:', length(hippocampus_liger@var.genes)))"
   ]
  },
  {
   "cell_type": "code",
   "execution_count": null,
   "id": "87f1cc67-f374-4f3a-9fbf-b4aa74de8df5",
   "metadata": {},
   "outputs": [],
   "source": [
    "#run LIGER \n",
    "cortex_liger <- scaleNotCenter(cortex_liger)\n",
    "striatum_liger <- scaleNotCenter(striatum_liger)\n",
    "hippocampus_liger <- scaleNotCenter(hippocampus_liger)\n",
    "\n",
    "\n",
    "\n",
    "lambda_val = 5\n",
    "knn_k_val = 35\n",
    "\n",
    "\n",
    "\n",
    "cortex_liger <- optimizeALS(cortex_liger, k=28, thresh = 5e-5, nrep = 1)\n",
    "cortex_liger <- quantileAlignSNF(cortex_liger, resolution = .8, knn_k = knn_k_val,small.clust.thresh = 30)\n",
    "\n",
    "striatum_liger <- optimizeALS(striatum_liger, k=32, thresh = 5e-5, nrep = 1)\n",
    "striatum_liger <- quantileAlignSNF(striatum_liger, resolution = .8, knn_k = knn_k_val,small.clust.thresh = 30)\n",
    "\n",
    "\n",
    "hippocampus_liger <- optimizeALS(hippocampus_liger, k=32, thresh = 5e-5, nrep = 1)\n",
    "hippocampus_liger <- quantileAlignSNF(hippocampus_liger, resolution = .8, knn_k = knn_k_val,small.clust.thresh = 30)\n"
   ]
  },
  {
   "cell_type": "code",
   "execution_count": null,
   "id": "ac1b6ccc-5921-45e9-8427-5f55b7b643da",
   "metadata": {},
   "outputs": [],
   "source": [
    "cortex_liger <- optimizeALS(cortex_liger, k=12, thresh = 5e-5, nrep = 1)\n",
    "cortex_liger <- quantileAlignSNF(cortex_liger, resolution = .8, knn_k = knn_k_val,small.clust.thresh = 30)\n",
    "\n",
    "...\n"
   ]
  },
  {
   "cell_type": "code",
   "execution_count": null,
   "id": "126ac7e7-ac99-4d88-9103-f9492752ed6d",
   "metadata": {},
   "outputs": [],
   "source": [
    "cortex_liger = runUMAP(cortex_liger, min_dist = 0.1,  n_neighbors = 20)\n"
   ]
  },
  {
   "cell_type": "code",
   "execution_count": null,
   "id": "806a221a-b5cc-463f-8f46-14a6dcfb66fd",
   "metadata": {},
   "outputs": [],
   "source": [
    "cortex_liger = louvainCluster(\n",
    "  cortex_liger,\n",
    "  )\n"
   ]
  },
  {
   "cell_type": "code",
   "execution_count": null,
   "id": "3d4c3cf0-a2c8-414c-a56c-77fb7da45fe5",
   "metadata": {},
   "outputs": [],
   "source": [
    "p_a_tsne1 = plotByDatasetAndCluster(cortex_liger , pt.size = 0.05, return.plots = T, raster = FALSE)\n",
    "p_a_tsne1"
   ]
  },
  {
   "cell_type": "code",
   "execution_count": null,
   "id": "9878fcc8-487e-4d94-a0dd-f8d090bba443",
   "metadata": {},
   "outputs": [],
   "source": [
    "cortex_liger_Seurat = ligerToSeurat(cortex_liger)\n"
   ]
  },
  {
   "cell_type": "code",
   "execution_count": null,
   "id": "c4363cb4-a5ba-4b92-bdec-51c3980c5e8a",
   "metadata": {},
   "outputs": [],
   "source": [
    "# Stash cell identity classes in metadata\n",
    "cortex_liger_Seurat[[\"liger_clusters\"]] <- Idents(object = cortex_liger_Seurat)\n",
    "cortex_liger_Seurat <- StashIdent(object = cortex_liger_Seurat, save.name = \"liger_clusters\")\n"
   ]
  },
  {
   "cell_type": "code",
   "execution_count": null,
   "id": "d0f52bdc-38c0-404c-9399-56a35da967ef",
   "metadata": {},
   "outputs": [],
   "source": [
    "DimPlot(cortex_liger_Seurat)\n",
    "\n",
    "...\n"
   ]
  },
  {
   "cell_type": "code",
   "execution_count": null,
   "id": "5fb936a2-1bdf-4287-9ce5-a153c88b55f1",
   "metadata": {},
   "outputs": [],
   "source": [
    "#Iteratively remove low quality clusters that don't align spatially to tissue, and/or have very low UMI counts, and no\n",
    "#distinct gene patterns "
   ]
  },
  {
   "cell_type": "code",
   "execution_count": null,
   "id": "d05cd9af-ad40-48bd-83b7-afbf51b56b55",
   "metadata": {},
   "outputs": [],
   "source": []
  },
  {
   "cell_type": "code",
   "execution_count": null,
   "id": "dade65e4-cc13-4f00-b881-be3e3e66eeab",
   "metadata": {},
   "outputs": [],
   "source": []
  }
 ],
 "metadata": {
  "kernelspec": {
   "display_name": "R",
   "language": "R",
   "name": "ir"
  },
  "language_info": {
   "codemirror_mode": "r",
   "file_extension": ".r",
   "mimetype": "text/x-r-source",
   "name": "R",
   "pygments_lexer": "r",
   "version": "4.0.3"
  }
 },
 "nbformat": 4,
 "nbformat_minor": 5
}
